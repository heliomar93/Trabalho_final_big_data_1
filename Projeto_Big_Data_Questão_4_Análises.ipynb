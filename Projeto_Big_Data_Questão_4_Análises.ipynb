{
  "cells": [
    {
      "cell_type": "markdown",
      "metadata": {
        "id": "KccqfD8ujL3K"
      },
      "source": [
        "# Começando o Trabalho\n",
        "---"
      ]
    },
    {
      "cell_type": "markdown",
      "metadata": {
        "id": "A_pds0odi1Rj"
      },
      "source": [
        "## Utilizando o Spark no Google Colab\n",
        "\n",
        "Para facilitar o desenvolvimento de nosso projeto neste curso vamos utilizar o Google Colab como ferramenta e para configurar o PySpark basta executar os comandos abaixo na própria célula do seu *notebook*."
      ]
    },
    {
      "cell_type": "code",
      "execution_count": 1,
      "metadata": {
        "id": "JmcO4uWZ3OLO"
      },
      "outputs": [],
      "source": [
        "# instalar as dependências\n",
        "!apt-get update -qq\n",
        "!apt-get install openjdk-8-jdk-headless -qq > /dev/null\n",
        "!wget -q https://archive.apache.org/dist/spark/spark-3.1.2/spark-3.1.2-bin-hadoop2.7.tgz\n",
        "!tar xf spark-3.1.2-bin-hadoop2.7.tgz\n",
        "!pip install -q findspark"
      ]
    },
    {
      "cell_type": "code",
      "execution_count": 2,
      "metadata": {
        "id": "_4Z_1m0z3sPJ"
      },
      "outputs": [],
      "source": [
        "import os\n",
        "os.environ[\"JAVA_HOME\"] = \"/usr/lib/jvm/java-8-openjdk-amd64\"\n",
        "os.environ[\"SPARK_HOME\"] = \"/content/spark-3.1.2-bin-hadoop2.7\""
      ]
    },
    {
      "cell_type": "code",
      "execution_count": 3,
      "metadata": {
        "id": "kqdft9fpGlH0"
      },
      "outputs": [],
      "source": [
        "import findspark\n",
        "findspark.init()"
      ]
    },
    {
      "cell_type": "markdown",
      "metadata": {
        "id": "xIZNca7Pjgqf"
      },
      "source": [
        "# Carregamento de Dados\n",
        "---"
      ]
    },
    {
      "cell_type": "markdown",
      "metadata": {
        "id": "YGNS075GGlH0"
      },
      "source": [
        "## [SparkSession](https://spark.apache.org/docs/3.1.2/api/python/reference/api/pyspark.sql.SparkSession.html)\n",
        "\n",
        "O ponto de entrada para programar o Spark com a API Dataset e DataFrame.\n",
        "\n",
        "Uma SparkSession pode ser utilizada para criar DataFrames, registrar DataFrames como tabelas, executar consultas SQL em tabelas, armazenar em cache e ler arquivos parquet. Para criar uma SparkSession, use o seguinte padrão de construtor:"
      ]
    },
    {
      "cell_type": "code",
      "execution_count": 4,
      "metadata": {
        "id": "yayRGdn_GlH1"
      },
      "outputs": [],
      "source": [
        "# from pyspark.sql import SparkSession\n",
        "\n",
        "# spark = SparkSession.builder \\\n",
        "#     .master('local[*]') \\\n",
        "#     .appName(\"Iniciando com Spark\") \\\n",
        "#     .getOrCreate()"
      ]
    },
    {
      "cell_type": "code",
      "execution_count": 5,
      "metadata": {
        "id": "PizPNqbmCuSM"
      },
      "outputs": [],
      "source": [
        "# spark"
      ]
    },
    {
      "cell_type": "markdown",
      "metadata": {
        "id": "n2mFfLx470tO"
      },
      "source": [
        "## Acessando o [Spark UI](https://spark.apache.org/docs/3.1.2/web-ui.html) (Google Colab)"
      ]
    },
    {
      "cell_type": "code",
      "execution_count": 6,
      "metadata": {
        "id": "RpSjVUhR8AYq"
      },
      "outputs": [],
      "source": [
        "from pyspark.sql import SparkSession\n",
        "from pyspark.sql import SparkSession\n",
        "from pyspark.sql.functions import sum, expr\n",
        "\n",
        "spark = SparkSession.builder \\\n",
        "    .master('local[*]') \\\n",
        "    .appName(\"Iniciando com Spark\") \\\n",
        "    .config('spark.ui.port', '4050') \\\n",
        "    .getOrCreate()"
      ]
    },
    {
      "cell_type": "markdown",
      "metadata": {
        "id": "Otwtgug3T4tW"
      },
      "source": [
        "[Site ngrok](https://ngrok.com)"
      ]
    },
    {
      "cell_type": "code",
      "execution_count": 7,
      "metadata": {
        "colab": {
          "base_uri": "https://localhost:8080/"
        },
        "id": "Wy6EXcMn8bg5",
        "outputId": "102d8e51-66cd-4441-b58b-e6ebec1e050a"
      },
      "outputs": [
        {
          "output_type": "stream",
          "name": "stdout",
          "text": [
            "Archive:  ngrok-stable-linux-amd64.zip\n",
            "replace ngrok? [y]es, [n]o, [A]ll, [N]one, [r]ename: y\n",
            "  inflating: ngrok                   \n"
          ]
        }
      ],
      "source": [
        "!wget -q https://bin.equinox.io/c/4VmDzA7iaHb/ngrok-stable-linux-amd64.zip\n",
        "!unzip ngrok-stable-linux-amd64.zip"
      ]
    },
    {
      "cell_type": "code",
      "source": [
        "!ngrok config add-authtoken 2KhGnm3oR704AwiHamZP5DayNYG_5UqPzTqfSjTJeUDwmK1uq"
      ],
      "metadata": {
        "colab": {
          "base_uri": "https://localhost:8080/"
        },
        "id": "DhfB7l4te9Vr",
        "outputId": "ae804b7e-477d-444f-e3fb-d1c266e23a44"
      },
      "execution_count": 8,
      "outputs": [
        {
          "output_type": "stream",
          "name": "stdout",
          "text": [
            "/bin/bash: ngrok: command not found\n"
          ]
        }
      ]
    },
    {
      "cell_type": "code",
      "execution_count": 9,
      "metadata": {
        "id": "UL5yysRL8i_I"
      },
      "outputs": [],
      "source": [
        "get_ipython().system_raw('./ngrok authtoken 2KhGnm3oR704AwiHamZP5DayNYG_5UqPzTqfSjTJeUDwmK1uq')\n",
        "get_ipython().system_raw('./ngrok http 4050 &')"
      ]
    },
    {
      "cell_type": "code",
      "execution_count": 10,
      "metadata": {
        "colab": {
          "base_uri": "https://localhost:8080/"
        },
        "id": "GOFKWePj8no0",
        "outputId": "ae1f2077-3666-4084-a3e1-53cd786f7100"
      },
      "outputs": [
        {
          "output_type": "stream",
          "name": "stdout",
          "text": [
            "{\"tunnels\":[{\"name\":\"command_line\",\"uri\":\"/api/tunnels/command_line\",\"public_url\":\"https://e2cd-34-85-217-74.ngrok.io\",\"proto\":\"https\",\"config\":{\"addr\":\"http://localhost:4050\",\"inspect\":true},\"metrics\":{\"conns\":{\"count\":0,\"gauge\":0,\"rate1\":0,\"rate5\":0,\"rate15\":0,\"p50\":0,\"p90\":0,\"p95\":0,\"p99\":0},\"http\":{\"count\":0,\"rate1\":0,\"rate5\":0,\"rate15\":0,\"p50\":0,\"p90\":0,\"p95\":0,\"p99\":0}}},{\"name\":\"command_line (http)\",\"uri\":\"/api/tunnels/command_line%20%28http%29\",\"public_url\":\"http://e2cd-34-85-217-74.ngrok.io\",\"proto\":\"http\",\"config\":{\"addr\":\"http://localhost:4050\",\"inspect\":true},\"metrics\":{\"conns\":{\"count\":0,\"gauge\":0,\"rate1\":0,\"rate5\":0,\"rate15\":0,\"p50\":0,\"p90\":0,\"p95\":0,\"p99\":0},\"http\":{\"count\":0,\"rate1\":0,\"rate5\":0,\"rate15\":0,\"p50\":0,\"p90\":0,\"p95\":0,\"p99\":0}}}],\"uri\":\"/api/tunnels\"}\n"
          ]
        }
      ],
      "source": [
        "!curl -s http://localhost:4040/api/tunnels"
      ]
    },
    {
      "cell_type": "code",
      "execution_count": 11,
      "metadata": {
        "colab": {
          "base_uri": "https://localhost:8080/",
          "height": 222
        },
        "id": "oonn_IJ08rfq",
        "outputId": "b4388dd9-0a5c-4cea-deef-3293f6f91602"
      },
      "outputs": [
        {
          "output_type": "execute_result",
          "data": {
            "text/plain": [
              "<pyspark.sql.session.SparkSession at 0x7f8034387580>"
            ],
            "text/html": [
              "\n",
              "            <div>\n",
              "                <p><b>SparkSession - in-memory</b></p>\n",
              "                \n",
              "        <div>\n",
              "            <p><b>SparkContext</b></p>\n",
              "\n",
              "            <p><a href=\"http://c70b76132ef6:4050\">Spark UI</a></p>\n",
              "\n",
              "            <dl>\n",
              "              <dt>Version</dt>\n",
              "                <dd><code>v3.1.2</code></dd>\n",
              "              <dt>Master</dt>\n",
              "                <dd><code>local[*]</code></dd>\n",
              "              <dt>AppName</dt>\n",
              "                <dd><code>Iniciando com Spark</code></dd>\n",
              "            </dl>\n",
              "        </div>\n",
              "        \n",
              "            </div>\n",
              "        "
            ]
          },
          "metadata": {},
          "execution_count": 11
        }
      ],
      "source": [
        "spark"
      ]
    },
    {
      "cell_type": "markdown",
      "metadata": {
        "id": "KCYYVAtjhMa7"
      },
      "source": [
        "## Carregamento de dados"
      ]
    },
    {
      "cell_type": "markdown",
      "metadata": {
        "id": "6znrrAdApQmE"
      },
      "source": [
        "### Montando drive"
      ]
    },
    {
      "cell_type": "code",
      "execution_count": 12,
      "metadata": {
        "colab": {
          "base_uri": "https://localhost:8080/"
        },
        "id": "6g2I8wYShfYJ",
        "outputId": "056e72f3-31ba-48b4-952f-32abd10bfa2b"
      },
      "outputs": [
        {
          "output_type": "stream",
          "name": "stdout",
          "text": [
            "Mounted at /content/drive\n"
          ]
        }
      ],
      "source": [
        "from google.colab import drive\n",
        "drive.mount('/content/drive')"
      ]
    },
    {
      "cell_type": "markdown",
      "metadata": {
        "id": "3f6bwFADGlH6"
      },
      "source": [
        "### Carregando os dados"
      ]
    },
    {
      "cell_type": "markdown",
      "source": [
        "### Questão 1 - Quais são os três produtos MENOS vendidos?"
      ],
      "metadata": {
        "id": "ea-PX-3Ql8pE"
      }
    },
    {
      "cell_type": "code",
      "execution_count": 19,
      "metadata": {
        "id": "1rDKf8L-GlH6"
      },
      "outputs": [],
      "source": [
        "path = '/content/drive/MyDrive/Colab Notebooks/Santander/7/nortwind/'\n",
        "orders_detail = spark.read.csv(path+\"OrderDetails.csv\", sep=',', \n",
        "                               inferSchema=True, header='true')"
      ]
    },
    {
      "cell_type": "code",
      "source": [
        "orders_detail.show(5)"
      ],
      "metadata": {
        "colab": {
          "base_uri": "https://localhost:8080/"
        },
        "id": "fKR9cJnLjIk-",
        "outputId": "aa9e7af3-7508-4aaf-e37b-95faaf736eeb"
      },
      "execution_count": 24,
      "outputs": [
        {
          "output_type": "stream",
          "name": "stdout",
          "text": [
            "+-------+---------+---------+--------+--------+\n",
            "|OrderID|ProductID|UnitPrice|Quantity|Discount|\n",
            "+-------+---------+---------+--------+--------+\n",
            "|  10248|       11|       14|      12|       0|\n",
            "|  10248|       42|      9,8|      10|       0|\n",
            "|  10248|       72|     34,8|       5|       0|\n",
            "|  10249|       14|     18,6|       9|       0|\n",
            "|  10249|       51|     42,4|      40|       0|\n",
            "+-------+---------+---------+--------+--------+\n",
            "only showing top 5 rows\n",
            "\n"
          ]
        }
      ]
    },
    {
      "cell_type": "code",
      "source": [
        "# Agrupa e seleciona os três menos vendidos\n",
        "produtos_vendidos = orders_detail.groupBy(\"ProductID\") \\\n",
        "    .agg(sum(\"Quantity\").alias(\"TotalVendido\")) \\\n",
        "    .orderBy(\"TotalVendido\")\n",
        "\n",
        "tres_menos_vendidos = produtos_vendidos.limit(3)\n",
        "tres_menos_vendidos.show()"
      ],
      "metadata": {
        "colab": {
          "base_uri": "https://localhost:8080/"
        },
        "id": "0R1p_ktFjJu5",
        "outputId": "f460df26-0038-4136-fb99-71a7c14ccb91"
      },
      "execution_count": 23,
      "outputs": [
        {
          "output_type": "stream",
          "name": "stdout",
          "text": [
            "+---------+------------+\n",
            "|ProductID|TotalVendido|\n",
            "+---------+------------+\n",
            "|        9|          95|\n",
            "|       15|         122|\n",
            "|       37|         125|\n",
            "+---------+------------+\n",
            "\n"
          ]
        }
      ]
    },
    {
      "cell_type": "markdown",
      "source": [
        "### Questão 2 - Quais são os cinco clientes que MAIS compras fizeram? (quantidade)"
      ],
      "metadata": {
        "id": "yl8xPYd1lxvM"
      }
    },
    {
      "cell_type": "code",
      "source": [
        "customers = spark.read.csv(path+\"Customers.csv\", sep=',', encoding= \"ISO-8859-1\",\n",
        "                               inferSchema=True, header='true')\n",
        "customers.show(5)"
      ],
      "metadata": {
        "colab": {
          "base_uri": "https://localhost:8080/"
        },
        "id": "SiSowdj7nYG0",
        "outputId": "779b1886-1278-4052-e270-3d830fbed317"
      },
      "execution_count": 33,
      "outputs": [
        {
          "output_type": "stream",
          "name": "stdout",
          "text": [
            "+----------+--------------------+------------------+--------------------+--------------------+-----------+------+----------+-------+--------------+--------------+\n",
            "|CustomerID|         CompanyName|       ContactName|        ContactTitle|             Address|       City|Region|PostalCode|Country|         Phone|           Fax|\n",
            "+----------+--------------------+------------------+--------------------+--------------------+-----------+------+----------+-------+--------------+--------------+\n",
            "|     ALFKI| Alfreds Futterkiste|      Maria Anders|Sales Representative|       Obere Str. 57|     Berlin|  null|     12209|Germany|   030-0074321|   030-0076545|\n",
            "|     ANATR|Ana Trujillo Empa...|      Ana Trujillo|               Owner|Avda. de la Const...|México D.F.|  null|      5021| Mexico|  (5) 555-4729|  (5) 555-3745|\n",
            "|     ANTON|Antonio Moreno Ta...|    Antonio Moreno|               Owner|     Mataderos  2312|México D.F.|  null|      5023| Mexico|  (5) 555-3932|          null|\n",
            "|     AROUT|     Around the Horn|      Thomas Hardy|Sales Representative|     120 Hanover Sq.|     London|  null|   WA1 1DP|     UK|(171) 555-7788|(171) 555-6750|\n",
            "|     BERGS|  Berglunds snabbköp|Christina Berglund| Order Administrator|     Berguvsvägen  8|      Luleå|  null|  S-958 22| Sweden| 0921-12 34 65| 0921-12 34 67|\n",
            "+----------+--------------------+------------------+--------------------+--------------------+-----------+------+----------+-------+--------------+--------------+\n",
            "only showing top 5 rows\n",
            "\n"
          ]
        }
      ]
    },
    {
      "cell_type": "code",
      "source": [
        "orders = spark.read.csv(path+\"Orders.csv\", sep=',', encoding= \"ISO-8859-1\",\n",
        "                               inferSchema=True, header='true')\n",
        "orders.show(5)"
      ],
      "metadata": {
        "colab": {
          "base_uri": "https://localhost:8080/"
        },
        "id": "TV1eoTZ9n8gy",
        "outputId": "2929fec8-183b-4f22-8021-9b12818ceca5"
      },
      "execution_count": 32,
      "outputs": [
        {
          "output_type": "stream",
          "name": "stdout",
          "text": [
            "+-------+----------+----------+--------------------+--------------------+--------------------+-------+-------+--------------------+--------------------+--------------+----------+--------------+-----------+\n",
            "|OrderID|CustomerID|EmployeeID|           OrderDate|        RequiredDate|         ShippedDate|ShipVia|Freight|            ShipName|         ShipAddress|      ShipCity|ShipRegion|ShipPostalCode|ShipCountry|\n",
            "+-------+----------+----------+--------------------+--------------------+--------------------+-------+-------+--------------------+--------------------+--------------+----------+--------------+-----------+\n",
            "|  10248|     VINET|         5|1996-07-04 00:00:...|1996-08-01 00:00:...|1996-07-16 00:00:...|      3|  32,38|Vins et alcools C...|  59 rue de l'Abbaye|         Reims|      null|         51100|     France|\n",
            "|  10249|     TOMSP|         6|1996-07-05 00:00:...|1996-08-16 00:00:...|1996-07-10 00:00:...|      1|  11,61|  Toms Spezialitäten|       Luisenstr. 48|       Münster|      null|         44087|    Germany|\n",
            "|  10250|     HANAR|         4|1996-07-08 00:00:...|1996-08-05 00:00:...|1996-07-12 00:00:...|      2|  65,83|       Hanari Carnes|     Rua do Paço, 67|Rio de Janeiro|        RJ|     05454-876|     Brazil|\n",
            "|  10251|     VICTE|         3|1996-07-08 00:00:...|1996-08-05 00:00:...|1996-07-15 00:00:...|      1|  41,34|Victuailles en stock|  2, rue du Commerce|          Lyon|      null|         69004|     France|\n",
            "|  10252|     SUPRD|         4|1996-07-09 00:00:...|1996-08-06 00:00:...|1996-07-11 00:00:...|      2|   51,3|    Suprêmes délices|Boulevard Tirou, 255|     Charleroi|      null|        B-6000|    Belgium|\n",
            "+-------+----------+----------+--------------------+--------------------+--------------------+-------+-------+--------------------+--------------------+--------------+----------+--------------+-----------+\n",
            "only showing top 5 rows\n",
            "\n"
          ]
        }
      ]
    },
    {
      "cell_type": "code",
      "source": [
        "merged_df = customers.join(orders, \"CustomerID\") \\\n",
        "    .join(orders_detail, \"OrderID\")\n",
        "\n",
        "# Agrupa pelo nome somando a quantidade comprado\n",
        "total_comprado_por_cliente = merged_df.groupBy(\"ContactName\") \\\n",
        "    .agg(sum(\"Quantity\").alias(\"TotalComprado\")) \\\n",
        "    .orderBy(\"TotalComprado\", ascending=False)\n",
        "\n",
        "clientes_mais_compraram = total_comprado_por_cliente.limit(5)\n",
        "clientes_mais_compraram.show()"
      ],
      "metadata": {
        "colab": {
          "base_uri": "https://localhost:8080/"
        },
        "id": "J_xq_1mLnMHv",
        "outputId": "0762c2d8-2afd-4b78-84df-701ccfb729e0"
      },
      "execution_count": 35,
      "outputs": [
        {
          "output_type": "stream",
          "name": "stdout",
          "text": [
            "+----------------+-------------+\n",
            "|     ContactName|TotalComprado|\n",
            "+----------------+-------------+\n",
            "|  Jose Pavarotti|         4958|\n",
            "|   Roland Mendel|         4543|\n",
            "|     Horst Kloss|         3961|\n",
            "|Patricia McKenna|         1684|\n",
            "|   Peter Franken|         1525|\n",
            "+----------------+-------------+\n",
            "\n"
          ]
        }
      ]
    },
    {
      "cell_type": "markdown",
      "source": [
        "### Questão 3 - Quais são os cinco clientes com MAIOR total gasto? (montante)"
      ],
      "metadata": {
        "id": "gkSsLsM4tced"
      }
    },
    {
      "cell_type": "code",
      "source": [
        "merged_df = customers.join(orders, \"CustomerID\") \\\n",
        "    .join(orders_detail, \"OrderID\")\n",
        "\n",
        "total_gasto_por_cliente = merged_df.groupBy(\"ContactName\") \\\n",
        "    .agg(expr(\"sum(Quantity * UnitPrice * (1 - Discount))\").alias(\"TotalGasto\")) \\\n",
        "    .orderBy(\"TotalGasto\", ascending=False)\n",
        "\n",
        "cinco_maior_gasto = total_gasto_por_cliente.limit(5)\n",
        "cinco_maior_gasto.show()"
      ],
      "metadata": {
        "colab": {
          "base_uri": "https://localhost:8080/"
        },
        "id": "pFKTPjBxmhfR",
        "outputId": "ffb1b34f-4c62-4976-933b-e50992b48a28"
      },
      "execution_count": 37,
      "outputs": [
        {
          "output_type": "stream",
          "name": "stdout",
          "text": [
            "+--------------+----------+\n",
            "|   ContactName|TotalGasto|\n",
            "+--------------+----------+\n",
            "| Roland Mendel|   28163.0|\n",
            "|Jose Pavarotti|   26887.0|\n",
            "|   Horst Kloss|   17983.0|\n",
            "| Maria Larsson|   14071.0|\n",
            "| Philip Cramer|   10107.0|\n",
            "+--------------+----------+\n",
            "\n"
          ]
        }
      ]
    },
    {
      "cell_type": "code",
      "source": [],
      "metadata": {
        "id": "KZLr23cgyfik"
      },
      "execution_count": null,
      "outputs": []
    }
  ],
  "metadata": {
    "colab": {
      "provenance": []
    },
    "kernelspec": {
      "display_name": "Python 3",
      "language": "python",
      "name": "python3"
    },
    "language_info": {
      "codemirror_mode": {
        "name": "ipython",
        "version": 3
      },
      "file_extension": ".py",
      "mimetype": "text/x-python",
      "name": "python",
      "nbconvert_exporter": "python",
      "pygments_lexer": "ipython3",
      "version": "3.8.8"
    },
    "varInspector": {
      "cols": {
        "lenName": 16,
        "lenType": 16,
        "lenVar": 40
      },
      "kernels_config": {
        "python": {
          "delete_cmd_postfix": "",
          "delete_cmd_prefix": "del ",
          "library": "var_list.py",
          "varRefreshCmd": "print(var_dic_list())"
        },
        "r": {
          "delete_cmd_postfix": ") ",
          "delete_cmd_prefix": "rm(",
          "library": "var_list.r",
          "varRefreshCmd": "cat(var_dic_list()) "
        }
      },
      "types_to_exclude": [
        "module",
        "function",
        "builtin_function_or_method",
        "instance",
        "_Feature"
      ],
      "window_display": false
    }
  },
  "nbformat": 4,
  "nbformat_minor": 0
}